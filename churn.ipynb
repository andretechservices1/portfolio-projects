{
 "cells": [
  {
   "cell_type": "code",
   "execution_count": 1,
   "id": "284cf2aa",
   "metadata": {},
   "outputs": [
    {
     "name": "stdout",
     "output_type": "stream",
     "text": [
      "✅ Model, encoder, and scaler saved.\n"
     ]
    }
   ],
   "source": [
    "import pandas as pd\n",
    "import joblib\n",
    "from sklearn.model_selection import train_test_split\n",
    "from sklearn.preprocessing import OneHotEncoder, StandardScaler\n",
    "from sklearn.compose import ColumnTransformer\n",
    "from sklearn.pipeline import Pipeline\n",
    "from sklearn.linear_model import LogisticRegression\n",
    "\n",
    "# =============================\n",
    "# Load dataset\n",
    "# =============================\n",
    "df = pd.read_csv(\"WA_Fn-UseC_-Telco-Customer-Churn.csv\")\n",
    "\n",
    "# Clean TotalCharges (make numeric, fill NAs)\n",
    "df[\"TotalCharges\"] = pd.to_numeric(df[\"TotalCharges\"], errors=\"coerce\")\n",
    "df[\"TotalCharges\"] = df[\"TotalCharges\"].fillna(0)\n",
    "\n",
    "# Define target + features\n",
    "target = \"Churn\"\n",
    "y = df[target].apply(lambda x: 1 if x == \"Yes\" else 0)\n",
    "\n",
    "categorical_cols = [\n",
    "    'gender', 'SeniorCitizen', 'Partner', 'Dependents', 'PhoneService',\n",
    "    'MultipleLines', 'InternetService', 'OnlineSecurity', 'OnlineBackup',\n",
    "    'DeviceProtection', 'TechSupport', 'StreamingTV', 'StreamingMovies',\n",
    "    'Contract', 'PaperlessBilling', 'PaymentMethod'\n",
    "]\n",
    "\n",
    "numeric_cols = ['tenure', 'MonthlyCharges', 'TotalCharges']\n",
    "\n",
    "X = df[categorical_cols + numeric_cols]\n",
    "\n",
    "# =============================\n",
    "# Preprocessing\n",
    "# =============================\n",
    "categorical_transformer = OneHotEncoder(handle_unknown=\"ignore\")\n",
    "numeric_transformer = StandardScaler()\n",
    "\n",
    "preprocessor = ColumnTransformer(\n",
    "    transformers=[\n",
    "        ('cat', categorical_transformer, categorical_cols),\n",
    "        ('num', numeric_transformer, numeric_cols)\n",
    "    ]\n",
    ")\n",
    "\n",
    "# =============================\n",
    "# Build model pipeline\n",
    "# =============================\n",
    "clf = Pipeline(steps=[\n",
    "    ('preprocessor', preprocessor),\n",
    "    ('classifier', LogisticRegression(max_iter=500))\n",
    "])\n",
    "\n",
    "# Train/test split\n",
    "X_train, X_test, y_train, y_test = train_test_split(X, y, test_size=0.2, random_state=42)\n",
    "clf.fit(X_train, y_train)\n",
    "\n",
    "# =============================\n",
    "# Save model + preprocessing\n",
    "# =============================\n",
    "joblib.dump(clf, \"churn_model.joblib\")\n",
    "joblib.dump(preprocessor.named_transformers_['cat'], \"encoders.joblib\")\n",
    "joblib.dump(preprocessor.named_transformers_['num'], \"scaler.joblib\")\n",
    "\n",
    "print(\"✅ Model, encoder, and scaler saved.\")\n",
    "\n",
    "\n",
    "\n"
   ]
  }
 ],
 "metadata": {
  "kernelspec": {
   "display_name": "Python 3",
   "language": "python",
   "name": "python3"
  },
  "language_info": {
   "codemirror_mode": {
    "name": "ipython",
    "version": 3
   },
   "file_extension": ".py",
   "mimetype": "text/x-python",
   "name": "python",
   "nbconvert_exporter": "python",
   "pygments_lexer": "ipython3",
   "version": "3.12.1"
  }
 },
 "nbformat": 4,
 "nbformat_minor": 5
}
